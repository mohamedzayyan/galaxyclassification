{
 "cells": [
  {
   "cell_type": "code",
   "execution_count": 1,
   "metadata": {},
   "outputs": [],
   "source": [
    "import sys\n",
    "sys.path.append('./pytorch_sol2/')\n",
    "#sys.path"
   ]
  },
  {
   "cell_type": "code",
   "execution_count": 2,
   "metadata": {},
   "outputs": [],
   "source": [
    "from __future__ import print_function, division\n",
    "import os, time, copy, sys\n",
    "import pandas as pd\n",
    "import numpy as np\n",
    "from torchvision import datasets, models, transforms\n",
    "from torch.utils.data import Dataset, DataLoader\n",
    "from torch.utils.data.sampler import SubsetRandomSampler\n",
    "from skimage import io, transform\n",
    "import matplotlib.pyplot as plt\n",
    "import torch\n",
    "import torch.nn as nn\n",
    "import torch.optim as optim\n",
    "from torch.optim import lr_scheduler\n",
    "import torchvision\n",
    "from torchvision import datasets, models, transforms\n",
    "import pickle\n",
    "from pandas_ml import ConfusionMatrix\n",
    "from sklearn.metrics import confusion_matrix\n",
    "from sklearn.metrics import f1_score\n",
    "\n",
    "from config import *\n",
    "from GalaxiesDataset import *\n",
    "from rsa_loader import *\n",
    "from pytorchtools import EarlyStopping\n",
    "from rsaTester import *\n",
    "import warnings\n",
    "warnings.filterwarnings('ignore')"
   ]
  },
  {
   "cell_type": "code",
   "execution_count": 3,
   "metadata": {},
   "outputs": [],
   "source": [
    "from PIL import Image"
   ]
  },
  {
   "cell_type": "markdown",
   "metadata": {},
   "source": [
    "remove = []\n",
    "x = pd.read_csv('rsa_.csv')\n",
    "x['Galaxy_ID'] = x['Galaxy_ID'].apply(lambda x: x.split(' ')[0] + x.split(' ')[-1])\n",
    "for i in x['Galaxy_ID']:\n",
    "    if not os.path.isfile('./edit/{}.png'.format(i)):\n",
    "        remove.append(i)\n",
    "x[~x['Galaxy_ID'].isin(remove)].to_csv('usethis_rsa.csv', index=False)    "
   ]
  },
  {
   "cell_type": "code",
   "execution_count": 4,
   "metadata": {},
   "outputs": [],
   "source": [
    "transf = transforms.Compose([\n",
    "    transforms.CenterCrop((224, 224)),\n",
    "        transforms.Resize((105, 105)),\n",
    "                             transforms.RandomHorizontalFlip(p=0.5),\n",
    "                             transforms.RandomRotation(degrees=(0,360)),\n",
    "                             transforms.RandomVerticalFlip(p=0.5),\n",
    "                             transforms.ToTensor(),\n",
    "                             transforms.Normalize(mean=[0.485, 0.456, 0.406],\n",
    "                                                  std=[0.229, 0.224, 0.225])])\n",
    "\n",
    "transformations = transforms.Compose([\n",
    "    transforms.CenterCrop((224,224)),\n",
    "    transforms.Resize((105, 105)),\n",
    "    transforms.ToTensor(),\n",
    "    transforms.Normalize(mean=[0.485, 0.456, 0.406], std=[0.229, 0.224, 0.225])\n",
    "])\n",
    "    "
   ]
  },
  {
   "cell_type": "code",
   "execution_count": 5,
   "metadata": {},
   "outputs": [],
   "source": [
    "test_ds = GalaxiesDataset_rsa(TEST_DIR, TEST_CSV, transform=transformations)"
   ]
  },
  {
   "cell_type": "code",
   "execution_count": 7,
   "metadata": {},
   "outputs": [
    {
     "name": "stdout",
     "output_type": "stream",
     "text": [
      "Total: 1249 Test_dl: 32\n"
     ]
    }
   ],
   "source": [
    "size = len(test_ds)\n",
    "indices = list(range(size))\n",
    "test_sampler = SubsetRandomSampler(indices)\n",
    "test_dl = DataLoader(test_ds, batch_size=BATCH_SIZE, num_workers=0,\n",
    "                                                 sampler=test_sampler)\n",
    "print(\"Total: {} Test_dl: {}\".format(size, len(test_dl)))"
   ]
  },
  {
   "cell_type": "code",
   "execution_count": 8,
   "metadata": {
    "scrolled": true
   },
   "outputs": [
    {
     "name": "stdout",
     "output_type": "stream",
     "text": [
      "RSA accuracy: 29.703763010408327\n",
      "RSA notWeighted f1 score: 0.2822205909673959\n",
      "Confusion matrix:\n",
      "[[65  0 10  0  0  0 15 66 18]\n",
      " [ 0  7  1  1  5  4  6 10  7]\n",
      " [40  0 35  1  2  0 29 55 12]\n",
      " [ 0  0 16 16  9  0  3 18  3]\n",
      " [ 0  2  4 12 27  5  7 34  5]\n",
      " [ 0  6  0  1 26 19  6 30 13]\n",
      " [15  2 30  5  8  1 33 45  8]\n",
      " [ 3  2  7  6 18  8 26 84 25]\n",
      " [ 0  6  7  1 41 26 18 88 85]]\n"
     ]
    }
   ],
   "source": [
    "#For efigi model: catalog='efigi'\n",
    "#For gz2 model: catalog='gz2'\n",
    "rsaTest = RSA_tester(test_dl, catalog='efigi', BATCH_SIZE=BATCH_SIZE)\n",
    "\n",
    "#For unweighted f1 score, with percentage confusion matrix\n",
    "rsaTest.evaluate(f1_='notWeighted', cf_='numbers')\n",
    "\n",
    "#For weighted f1 score, with numbers confusion matrix\n",
    "#rsaTest.evaluate(f1_ = 'weighted', cf_ = 'percentage')"
   ]
  }
 ],
 "metadata": {
  "kernelspec": {
   "display_name": "Python 3",
   "language": "python",
   "name": "python3"
  },
  "language_info": {
   "codemirror_mode": {
    "name": "ipython",
    "version": 3
   },
   "file_extension": ".py",
   "mimetype": "text/x-python",
   "name": "python",
   "nbconvert_exporter": "python",
   "pygments_lexer": "ipython3",
   "version": "3.7.3"
  }
 },
 "nbformat": 4,
 "nbformat_minor": 2
}
