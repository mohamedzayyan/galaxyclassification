{
 "cells": [
  {
   "cell_type": "code",
   "execution_count": 1,
   "metadata": {},
   "outputs": [],
   "source": [
    "import sys\n",
    "sys.path.append('./pytorch_sol2/')\n",
    "#sys.path"
   ]
  },
  {
   "cell_type": "code",
   "execution_count": 2,
   "metadata": {},
   "outputs": [],
   "source": [
    "from __future__ import print_function, division\n",
    "import os, time, copy, sys\n",
    "import pandas as pd\n",
    "import numpy as np\n",
    "from torchvision import datasets, models, transforms\n",
    "from torch.utils.data import Dataset, DataLoader, Subset\n",
    "from torch.utils.data.sampler import SubsetRandomSampler\n",
    "from skimage import io, transform\n",
    "import matplotlib.pyplot as plt\n",
    "import torch\n",
    "import torch.nn as nn\n",
    "import torch.optim as optim\n",
    "from torch.optim import lr_scheduler\n",
    "import torchvision\n",
    "from torchvision import datasets, models, transforms\n",
    "import torch.nn.functional as F\n",
    "from torch.autograd import Variable\n",
    "import pickle\n",
    "from PIL import Image\n",
    "\n",
    "from config import *\n",
    "from GalaxiesDataset import *\n",
    "from rsa_loader import *\n",
    "from efigi_loader import *\n",
    "from pytorchtools import EarlyStopping\n",
    "\n",
    "import pickle\n",
    "from DatasetFromSubset import *\n",
    "from samplers import *\n",
    "from sklearn.model_selection import train_test_split\n",
    "\n",
    "from pandas_ml import ConfusionMatrix\n",
    "from sklearn.metrics import confusion_matrix\n",
    "import matplotlib.pyplot as plt\n",
    "from mySiamese import *\n",
    "\n",
    "import warnings\n",
    "warnings.filterwarnings('ignore')\n",
    "\n",
    "\n",
    "\n",
    "import random"
   ]
  },
  {
   "cell_type": "code",
   "execution_count": 3,
   "metadata": {},
   "outputs": [],
   "source": [
    "transf = transforms.Compose([transforms.Resize((105, 105)),\n",
    "                             transforms.RandomHorizontalFlip(p=0.5),\n",
    "                             transforms.RandomRotation(degrees=(0,360)),\n",
    "                             transforms.RandomVerticalFlip(p=0.5),\n",
    "                             transforms.ToTensor(),\n",
    "                             transforms.Normalize(mean=[0.485, 0.456, 0.406],\n",
    "                                                  std=[0.229, 0.224, 0.225])])\n",
    "\n",
    "transformations = transforms.Compose([transforms.Resize((105, 105)),\n",
    "    transforms.ToTensor(),\n",
    "    transforms.Normalize(mean=[0.485, 0.456, 0.406], std=[0.229, 0.224, 0.225])\n",
    "])"
   ]
  },
  {
   "cell_type": "code",
   "execution_count": 4,
   "metadata": {},
   "outputs": [],
   "source": [
    "train_ds = GalaxiesDataset_efigi(EFIGI_DIR, EFIGI_CSV)"
   ]
  },
  {
   "cell_type": "code",
   "execution_count": 5,
   "metadata": {},
   "outputs": [],
   "source": [
    "cl = []\n",
    "for row in range(train_ds.classes_frame.shape[0]):\n",
    "    cl.append(np.argmax(train_ds.classes_frame.loc[:,train_ds.classes_frame.columns[3:]].loc[row]))\n",
    "\n",
    "temp = pd.DataFrame(cl,columns=['cat'])\n",
    "temp['cat'] = temp['cat'].astype('category')\n",
    "temp['cat'] = temp['cat'].cat.codes\n"
   ]
  },
  {
   "cell_type": "code",
   "execution_count": 6,
   "metadata": {},
   "outputs": [],
   "source": [
    "y = torch.from_numpy(temp.values)\n",
    "train_idx, valid_idx= train_test_split(\n",
    "np.arange(len(y)),\n",
    "test_size=0.4,\n",
    "shuffle=True,\n",
    "    random_state=42,\n",
    "stratify=y)\n",
    "\n",
    "valid_idx, test_idx= train_test_split(\n",
    "np.arange(len(y[valid_idx])),\n",
    "test_size=0.5,\n",
    "shuffle=True,\n",
    "    random_state=42,\n",
    "stratify=y[valid_idx])"
   ]
  },
  {
   "cell_type": "markdown",
   "metadata": {},
   "source": [
    "new_train = []\n",
    "testers = []\n",
    "y_train = y[train_idx].reshape((-1, ))\n",
    "for i in range(0,12):\n",
    "    l = i\n",
    "    inds = np.argwhere(y_train == l)[:,0]\n",
    "    testers.append(train_idx[inds[0]])\n",
    "    for j in range(1, inds.shape[0]):\n",
    "        new_train.append(train_idx[inds[j]])\n",
    "new_train = np.array(new_train)\n",
    "np.random.shuffle(new_train)\n",
    "testers = np.array(testers)"
   ]
  },
  {
   "cell_type": "code",
   "execution_count": 7,
   "metadata": {},
   "outputs": [
    {
     "name": "stdout",
     "output_type": "stream",
     "text": [
      "Total: 3122 Train_dl: 1 Validation_dl: 1 Test_dl: 1\n"
     ]
    }
   ],
   "source": [
    "size = len(train_ds)\n",
    "indices = list(range(size))\n",
    "split = int(np.floor(VALIDATION_SPLIT * size))\n",
    "if SHUFFLE_DS:\n",
    "    np.random.seed(RANDOM_SEED)\n",
    "    np.random.shuffle(indices)\n",
    "train_indices, val_indices = indices[split:], indices[:split]\n",
    "\n",
    "test_split = int(np.floor(VALIDATION_SPLIT * size))\n",
    "if SHUFFLE_DS:\n",
    "    np.random.seed(RANDOM_SEED)\n",
    "    np.random.shuffle(indices)\n",
    "train_indices, test_indices = train_indices[test_split:], train_indices[:test_split]\n",
    "\n",
    "train_sampler = SubsetRandomSampler(train_idx)\n",
    "val_sampler   = SubsetRandomSampler(valid_idx)\n",
    "test_sampler = SubsetRandomSampler(test_idx)\n",
    "\n",
    "tng = Subset(train_ds, train_idx)\n",
    "val = Subset(train_ds, valid_idx)\n",
    "test = Subset(train_ds, test_idx) \n",
    "#base = Subset(train_ds, testers)\n",
    "\n",
    "tng_dataset = DatasetFromSubset(tng, transf)\n",
    "val_dataset = DatasetFromSubset(val, transformations)\n",
    "test_dataset = DatasetFromSubset(test, transformations)\n",
    "#base_ds = DatasetFromSubset(base, transformations)\n",
    "\n",
    "\n",
    "train_dl = DataLoader(tng_dataset, batch_size=len(train_idx), num_workers=0)\n",
    "val_dl = DataLoader(val_dataset, batch_size=len(valid_idx), num_workers=0)\n",
    "unseen_dl = DataLoader(test_dataset, batch_size=len(test_idx), num_workers=0)\n",
    "#base_dl = DataLoader(base_ds, batch_size=len(testers), num_workers=0)\n",
    "\n",
    "#train_dl = DataLoader(train_ds, batch_size=BATCH_SIZE, num_workers=0,\n",
    "#                                                 sampler=train_sampler)\n",
    "#val_dl = DataLoader(train_ds, batch_size=BATCH_SIZE, num_workers=0,\n",
    "#                                                 sampler=val_sampler)\n",
    "#unseen_dl = DataLoader(train_ds,batch_size=BATCH_SIZE, num_workers=0,\n",
    "#                                                 sampler=test_sampler)\n",
    "print(\"Total: {} Train_dl: {} Validation_dl: {} Test_dl: {}\".format(size, len(train_dl),\n",
    "                                                                    len(val_dl),\n",
    "                                                                   len(unseen_dl)))"
   ]
  },
  {
   "cell_type": "code",
   "execution_count": 8,
   "metadata": {},
   "outputs": [
    {
     "data": {
      "text/plain": [
       "624"
      ]
     },
     "execution_count": 8,
     "metadata": {},
     "output_type": "execute_result"
    }
   ],
   "source": [
    "len(val_dl.sampler.data_source.subset.indices)"
   ]
  },
  {
   "cell_type": "code",
   "execution_count": 9,
   "metadata": {},
   "outputs": [],
   "source": [
    "#len(base_dl.sampler.data_source.subset.indices)"
   ]
  },
  {
   "cell_type": "code",
   "execution_count": 10,
   "metadata": {},
   "outputs": [
    {
     "data": {
      "text/plain": [
       "625"
      ]
     },
     "execution_count": 10,
     "metadata": {},
     "output_type": "execute_result"
    }
   ],
   "source": [
    "len(unseen_dl.sampler.data_source.subset.indices)"
   ]
  },
  {
   "cell_type": "code",
   "execution_count": 11,
   "metadata": {},
   "outputs": [
    {
     "data": {
      "text/plain": [
       "1873"
      ]
     },
     "execution_count": 11,
     "metadata": {},
     "output_type": "execute_result"
    }
   ],
   "source": [
    "len(train_dl.sampler.data_source.subset.indices)"
   ]
  },
  {
   "cell_type": "code",
   "execution_count": 12,
   "metadata": {},
   "outputs": [],
   "source": [
    "# To just evaluate, use tr='val' \n",
    "tr = 'train'"
   ]
  },
  {
   "cell_type": "code",
   "execution_count": 13,
   "metadata": {},
   "outputs": [],
   "source": [
    "if tr == 'train':\n",
    "    model = torch.load('gz2_resnet50')\n",
    "if tr == 'val':\n",
    "    model = torch.load('./models/efigiSiamesePair')\n",
    "optimizer = optim.SGD(model.parameters(), lr=0.001, weight_decay=0.00005)\n",
    "scheduler = lr_scheduler.ReduceLROnPlateau(optimizer, 'min',patience=5,threshold=0.0001,factor=0.1, verbose=True)"
   ]
  },
  {
   "cell_type": "markdown",
   "metadata": {},
   "source": [
    "### class parameters ###\n",
    "For random sampling: mining='random'\n",
    "For triplet loss: modelType='triplet'\n",
    "For contrastive loss: modelType='pair'"
   ]
  },
  {
   "cell_type": "code",
   "execution_count": null,
   "metadata": {
    "scrolled": true
   },
   "outputs": [
    {
     "name": "stdout",
     "output_type": "stream",
     "text": [
      "Training starting\n",
      "\n",
      "epoch: 0\n",
      "Train loss: 0.9956789036591848, Val loss: 0.8349508941173553\n",
      "Validation loss decreased (inf --> 0.834951).  Saving model ...\n",
      "\n",
      "epoch: 1\n",
      "Train loss: 0.9414457003275554, Val loss: 0.782412999868393\n",
      "Validation loss decreased (0.834951 --> 0.782413).  Saving model ...\n",
      "\n",
      "epoch: 2\n",
      "Train loss: 0.9061650534470876, Val loss: 0.7401562511920929\n",
      "Validation loss decreased (0.782413 --> 0.740156).  Saving model ...\n",
      "\n",
      "epoch: 3\n",
      "Train loss: 0.8612610419591268, Val loss: 0.7066856563091278\n",
      "Validation loss decreased (0.740156 --> 0.706686).  Saving model ...\n",
      "\n",
      "epoch: 4\n",
      "Train loss: 0.8255460957686106, Val loss: 0.6765064179897309\n",
      "Validation loss decreased (0.706686 --> 0.676506).  Saving model ...\n",
      "\n",
      "epoch: 5\n",
      "Train loss: 0.7950588782628377, Val loss: 0.6501428008079528\n",
      "Validation loss decreased (0.676506 --> 0.650143).  Saving model ...\n",
      "\n",
      "epoch: 6\n",
      "Train loss: 0.763510282834371, Val loss: 0.6271258115768432\n",
      "Validation loss decreased (0.650143 --> 0.627126).  Saving model ...\n",
      "\n",
      "epoch: 7\n",
      "Train loss: 0.7396992941697439, Val loss: 0.6045004665851593\n",
      "Validation loss decreased (0.627126 --> 0.604500).  Saving model ...\n",
      "\n",
      "epoch: 8\n",
      "Train loss: 0.7108162879943848, Val loss: 0.5837593913078308\n",
      "Validation loss decreased (0.604500 --> 0.583759).  Saving model ...\n",
      "\n",
      "epoch: 9\n",
      "Train loss: 0.6904475053151449, Val loss: 0.564980936050415\n",
      "Validation loss decreased (0.583759 --> 0.564981).  Saving model ...\n",
      "\n",
      "epoch: 10\n",
      "Train loss: 0.6745897769927979, Val loss: 0.5478390038013459\n",
      "Validation loss decreased (0.564981 --> 0.547839).  Saving model ...\n",
      "\n",
      "epoch: 11\n",
      "Train loss: 0.6553097347418467, Val loss: 0.5340848654508591\n",
      "Validation loss decreased (0.547839 --> 0.534085).  Saving model ...\n",
      "\n",
      "epoch: 12\n",
      "Train loss: 0.6375706613063812, Val loss: 0.5225542992353439\n",
      "Validation loss decreased (0.534085 --> 0.522554).  Saving model ...\n",
      "\n",
      "epoch: 13\n",
      "Train loss: 0.6369884729385376, Val loss: 0.5124975621700287\n",
      "Validation loss decreased (0.522554 --> 0.512498).  Saving model ...\n",
      "\n",
      "epoch: 14\n",
      "Train loss: 0.6177664856115977, Val loss: 0.5032452583312989\n",
      "Validation loss decreased (0.512498 --> 0.503245).  Saving model ...\n",
      "\n",
      "epoch: 15\n",
      "Train loss: 0.6149141212304433, Val loss: 0.49450730681419375\n",
      "Validation loss decreased (0.503245 --> 0.494507).  Saving model ...\n",
      "\n",
      "epoch: 16\n",
      "Train loss: 0.6174068421125412, Val loss: 0.48670979142189025\n",
      "Validation loss decreased (0.494507 --> 0.486710).  Saving model ...\n",
      "\n",
      "epoch: 17\n",
      "Train loss: 0.6025273005167643, Val loss: 0.4799144953489304\n",
      "Validation loss decreased (0.486710 --> 0.479914).  Saving model ...\n",
      "\n",
      "epoch: 18\n",
      "Train loss: 0.5936626434326172, Val loss: 0.4735150098800659\n",
      "Validation loss decreased (0.479914 --> 0.473515).  Saving model ...\n",
      "\n",
      "epoch: 19\n",
      "Train loss: 0.5773764878511429, Val loss: 0.46743335723876955\n",
      "Validation loss decreased (0.473515 --> 0.467433).  Saving model ...\n",
      "\n",
      "epoch: 20\n",
      "Train loss: 0.5773919562498728, Val loss: 0.4618451505899429\n",
      "Validation loss decreased (0.467433 --> 0.461845).  Saving model ...\n",
      "\n",
      "epoch: 21\n",
      "Train loss: 0.5784179439147313, Val loss: 0.4563678175210953\n",
      "Validation loss decreased (0.461845 --> 0.456368).  Saving model ...\n",
      "\n",
      "epoch: 22\n",
      "Train loss: 0.5695277531941731, Val loss: 0.45086815059185026\n",
      "Validation loss decreased (0.456368 --> 0.450868).  Saving model ...\n",
      "\n",
      "epoch: 23\n",
      "Train loss: 0.5640388896067937, Val loss: 0.4449124425649643\n",
      "Validation loss decreased (0.450868 --> 0.444912).  Saving model ...\n",
      "\n",
      "epoch: 24\n",
      "Train loss: 0.5519254247347514, Val loss: 0.43975571990013124\n",
      "Validation loss decreased (0.444912 --> 0.439756).  Saving model ...\n",
      "\n",
      "epoch: 25\n",
      "Train loss: 0.5513137658437093, Val loss: 0.4344232171773911\n",
      "Validation loss decreased (0.439756 --> 0.434423).  Saving model ...\n",
      "\n",
      "epoch: 26\n",
      "Train loss: 0.5450456728537877, Val loss: 0.4291154831647873\n",
      "Validation loss decreased (0.434423 --> 0.429115).  Saving model ...\n",
      "\n",
      "epoch: 27\n",
      "Train loss: 0.545406065384547, Val loss: 0.42373456060886383\n",
      "Validation loss decreased (0.429115 --> 0.423735).  Saving model ...\n",
      "\n",
      "epoch: 28\n",
      "Train loss: 0.5407236675421397, Val loss: 0.4190272778272629\n",
      "Validation loss decreased (0.423735 --> 0.419027).  Saving model ...\n",
      "\n",
      "epoch: 29\n",
      "Train loss: 0.5343818763891856, Val loss: 0.4141279637813568\n",
      "Validation loss decreased (0.419027 --> 0.414128).  Saving model ...\n",
      "\n",
      "epoch: 30\n",
      "Train loss: 0.5254607766866684, Val loss: 0.4090982794761658\n",
      "Validation loss decreased (0.414128 --> 0.409098).  Saving model ...\n",
      "\n",
      "epoch: 31\n",
      "Train loss: 0.5203356524308522, Val loss: 0.4043027698993683\n",
      "Validation loss decreased (0.409098 --> 0.404303).  Saving model ...\n",
      "\n",
      "epoch: 32\n",
      "Train loss: 0.5162724673748016, Val loss: 0.3998608261346817\n",
      "Validation loss decreased (0.404303 --> 0.399861).  Saving model ...\n",
      "\n",
      "epoch: 33\n",
      "Train loss: 0.5194884876410166, Val loss: 0.39469075202941895\n",
      "Validation loss decreased (0.399861 --> 0.394691).  Saving model ...\n",
      "\n",
      "epoch: 34\n",
      "Train loss: 0.5150620271762212, Val loss: 0.3898922234773636\n",
      "Validation loss decreased (0.394691 --> 0.389892).  Saving model ...\n",
      "\n",
      "epoch: 35\n",
      "Train loss: 0.5143781473239263, Val loss: 0.38503901064395907\n",
      "Validation loss decreased (0.389892 --> 0.385039).  Saving model ...\n",
      "\n",
      "epoch: 36\n",
      "Train loss: 0.5033475195368131, Val loss: 0.37962594628334045\n",
      "Validation loss decreased (0.385039 --> 0.379626).  Saving model ...\n",
      "\n",
      "epoch: 37\n",
      "Train loss: 0.5035726646582286, Val loss: 0.37510600686073303\n",
      "Validation loss decreased (0.379626 --> 0.375106).  Saving model ...\n",
      "\n",
      "epoch: 38\n",
      "Train loss: 0.49218769520521166, Val loss: 0.3706814289093018\n",
      "Validation loss decreased (0.375106 --> 0.370681).  Saving model ...\n",
      "\n",
      "epoch: 39\n",
      "Train loss: 0.49173111816247306, Val loss: 0.36591909229755404\n",
      "Validation loss decreased (0.370681 --> 0.365919).  Saving model ...\n",
      "\n",
      "epoch: 40\n",
      "Train loss: 0.4904549439748128, Val loss: 0.36119588315486906\n",
      "Validation loss decreased (0.365919 --> 0.361196).  Saving model ...\n",
      "\n",
      "epoch: 41\n",
      "Train loss: 0.48601703296105064, Val loss: 0.3565611749887466\n",
      "Validation loss decreased (0.361196 --> 0.356561).  Saving model ...\n",
      "\n",
      "epoch: 42\n",
      "Train loss: 0.4808870702981949, Val loss: 0.35189844369888307\n",
      "Validation loss decreased (0.356561 --> 0.351898).  Saving model ...\n",
      "\n",
      "epoch: 43\n",
      "Train loss: 0.48246873219807945, Val loss: 0.3470395505428314\n",
      "Validation loss decreased (0.351898 --> 0.347040).  Saving model ...\n",
      "\n",
      "epoch: 44\n",
      "Train loss: 0.47665386895338696, Val loss: 0.34165545403957365\n",
      "Validation loss decreased (0.347040 --> 0.341655).  Saving model ...\n",
      "\n",
      "epoch: 45\n",
      "Train loss: 0.46418828268845874, Val loss: 0.3371159493923187\n",
      "Validation loss decreased (0.341655 --> 0.337116).  Saving model ...\n",
      "\n",
      "epoch: 46\n",
      "Train loss: 0.4754099210103353, Val loss: 0.332549712061882\n",
      "Validation loss decreased (0.337116 --> 0.332550).  Saving model ...\n",
      "\n",
      "epoch: 47\n",
      "Train loss: 0.46553921699523926, Val loss: 0.3280546098947525\n",
      "Validation loss decreased (0.332550 --> 0.328055).  Saving model ...\n",
      "\n",
      "epoch: 48\n",
      "Train loss: 0.4618564397096634, Val loss: 0.3233442008495331\n",
      "Validation loss decreased (0.328055 --> 0.323344).  Saving model ...\n",
      "\n",
      "epoch: 49\n",
      "Train loss: 0.4585680196682612, Val loss: 0.3192082330584526\n",
      "Validation loss decreased (0.323344 --> 0.319208).  Saving model ...\n",
      "\n",
      "epoch: 50\n",
      "Train loss: 0.45568308035532634, Val loss: 0.31463264375925065\n",
      "Validation loss decreased (0.319208 --> 0.314633).  Saving model ...\n",
      "\n",
      "epoch: 51\n",
      "Train loss: 0.45109410136938094, Val loss: 0.3104633554816246\n",
      "Validation loss decreased (0.314633 --> 0.310463).  Saving model ...\n",
      "\n",
      "epoch: 52\n",
      "Train loss: 0.45018952041864396, Val loss: 0.3058310315012932\n",
      "Validation loss decreased (0.310463 --> 0.305831).  Saving model ...\n",
      "\n",
      "epoch: 53\n",
      "Train loss: 0.4426624685525894, Val loss: 0.30230678617954254\n",
      "Validation loss decreased (0.305831 --> 0.302307).  Saving model ...\n",
      "\n",
      "epoch: 54\n",
      "Train loss: 0.4443803275624911, Val loss: 0.2979216888546944\n",
      "Validation loss decreased (0.302307 --> 0.297922).  Saving model ...\n"
     ]
    }
   ],
   "source": [
    "mySiam = mySiamese(train_dl=train_dl, val_dl=val_dl, unseen_dl=unseen_dl, mining='random', model=model,\n",
    "                   margin=1.2, outputSize=128,optimizer=optimizer,scheduler=scheduler,\n",
    "                  modelType='triplet', device=DEVICE)\n",
    "if tr == 'train':\n",
    "    mySiam.train(epochs=100)"
   ]
  },
  {
   "cell_type": "code",
   "execution_count": null,
   "metadata": {
    "scrolled": true
   },
   "outputs": [],
   "source": [
    "mySiam.evaluate2()\n",
    "#model, testPreds, trainPreds, distMatrix, train_label_anchor, predLabels, actLabels, avg_fts = mySiam.evaluate2(epochs=5000)"
   ]
  },
  {
   "cell_type": "code",
   "execution_count": null,
   "metadata": {},
   "outputs": [],
   "source": []
  },
  {
   "cell_type": "code",
   "execution_count": 22,
   "metadata": {},
   "outputs": [
    {
     "data": {
      "text/plain": [
       "torch.Size([9, 128])"
      ]
     },
     "execution_count": 22,
     "metadata": {},
     "output_type": "execute_result"
    }
   ],
   "source": [
    "torch.argmin(mySiam.distMatrix[0])\n",
    "mySiam.avg_fts.shape"
   ]
  },
  {
   "cell_type": "code",
   "execution_count": 63,
   "metadata": {},
   "outputs": [],
   "source": [
    "avg_fts = torch.empty((0, mySiam.outputSize))\n",
    "for lab in mySiam.unique_labs:\n",
    "    inds = np.where(mySiam.trainLabels == lab)[0]\n",
    "    fts = torch.empty((0, mySiam.outputSize))\n",
    "    \n",
    "    predss = mySiam.trainPreds[inds]\n",
    "    #fts = torch.cat((fts, predss.cpu()), 0)\n",
    "    avg = torch.mean(predss, 0).reshape(1,-1)\n",
    "    avg_fts = torch.cat((avg_fts, avg ), 0)"
   ]
  },
  {
   "cell_type": "code",
   "execution_count": 64,
   "metadata": {},
   "outputs": [
    {
     "data": {
      "text/plain": [
       "tensor([[0.4779, 0.6763, 0.4429,  ..., 0.4543, 0.5724, 0.2998],\n",
       "        [0.5619, 0.6690, 0.4333,  ..., 0.5127, 0.6201, 0.4085],\n",
       "        [0.5534, 0.6254, 0.3225,  ..., 0.5383, 0.5035, 0.3976],\n",
       "        ...,\n",
       "        [0.5134, 0.6167, 0.3647,  ..., 0.5158, 0.5266, 0.4194],\n",
       "        [0.4904, 0.5845, 0.3675,  ..., 0.5190, 0.5413, 0.4456],\n",
       "        [0.5266, 0.5791, 0.4012,  ..., 0.5034, 0.5744, 0.4446]])"
      ]
     },
     "execution_count": 64,
     "metadata": {},
     "output_type": "execute_result"
    }
   ],
   "source": [
    "avg_fts"
   ]
  },
  {
   "cell_type": "code",
   "execution_count": 14,
   "metadata": {},
   "outputs": [],
   "source": [
    "#model = torch.load('efigi_siamese_pair').to(DEVICE)\n",
    "model = torch.load('efigi_siamese_triplet').to(DEVICE)"
   ]
  },
  {
   "cell_type": "code",
   "execution_count": 15,
   "metadata": {},
   "outputs": [],
   "source": [
    "def genTriplets(batch):\n",
    "    batch_size = batch['image'].shape[0]\n",
    "    im_width = batch['image'].shape[2]\n",
    "    in_channels = batch['image'].shape[1]\n",
    "    im_height = batch['image'].shape[3]\n",
    "    \n",
    "    labels = np.zeros(batch_size)\n",
    "    for i in range(batch_size):\n",
    "        labels[i] = batch['labels'][i].argmax()\n",
    "    \n",
    "    batch_img_anchor = np.zeros((batch_size, in_channels*im_width*im_height))   # image set anchors\n",
    "    batch_img_positive = np.zeros((batch_size, in_channels*im_width*im_height))   # image set positive\n",
    "    batch_img_negative = np.zeros((batch_size, in_channels*im_width*im_height))   # image set negatives\n",
    "    \n",
    "    batch_label_anchor = np.zeros((batch_size, ))    # labels for anchors\n",
    "    batch_label_positive = np.zeros((batch_size,))     # labels for positives\n",
    "    batch_label_negative = np.zeros((batch_size,))     # labels for negatives\n",
    "    \n",
    "    for i in range(batch_size):\n",
    "        l = labels[i]\n",
    "        #Add anchor\n",
    "        batch_img_anchor[i] = torch.reshape(batch['image'][i], (in_channels*im_width*im_height, ))\n",
    "        batch_label_anchor[i] = l\n",
    "        \n",
    "        # find and add a genuine sample\n",
    "        ind_positive = np.squeeze(np.argwhere(labels == l))\n",
    "        randSamp = random.sample(list(ind_positive), 1)\n",
    "        batch_img_positive[i] = torch.reshape(batch['image'][randSamp], (in_channels*im_width*im_height, ))\n",
    "        batch_label_positive[i] = l\n",
    "        \n",
    "        \n",
    "        # find and add a negative sample\n",
    "        ind_negative = np.squeeze(np.argwhere(labels != l))\n",
    "        randSamp = random.sample(list(ind_negative), 1)\n",
    "        batch_img_negative[i] = torch.reshape(batch['image'][randSamp], (in_channels*im_width*im_height, ))\n",
    "        batch_label_negative[i] = labels[randSamp]\n",
    "        \n",
    "    batch_img_anchor = batch_img_anchor.reshape((-1, in_channels, im_width, im_height))\n",
    "    batch_img_positive = batch_img_positive.reshape((-1, in_channels, im_width, im_height))\n",
    "    batch_img_negative = batch_img_negative.reshape((-1, in_channels, im_width, im_height))\n",
    "    \n",
    "    batch_label_anchor = torch.from_numpy(batch_label_anchor).long()  # convert the numpy array into torch tensor\n",
    "    batch_label_positive = torch.from_numpy(batch_label_positive).long()  # convert the numpy array into torch tensor\n",
    "    batch_label_negative = torch.from_numpy(batch_label_negative).long()  # convert the numpy array into torch tensor\n",
    "    \n",
    "    batch_img_anchor = torch.from_numpy(batch_img_anchor).float()     # convert the numpy array into torch tensor\n",
    "    batch_img_positive = torch.from_numpy(batch_img_positive).float()  # convert the numpy array into torch tensor\n",
    "    batch_img_negative = torch.from_numpy(batch_img_negative).float()  # convert the numpy array into torch tensor\n",
    "    \n",
    "    return batch_img_anchor, batch_img_positive, batch_img_negative, batch_label_anchor, batch_label_positive, batch_label_negative"
   ]
  },
  {
   "cell_type": "code",
   "execution_count": 16,
   "metadata": {},
   "outputs": [],
   "source": [
    "def genPair(batch):\n",
    "    batch_size = batch['image'].shape[0]\n",
    "    im_width = batch['image'].shape[2]\n",
    "    in_channels = batch['image'].shape[1]\n",
    "    im_height = batch['image'].shape[3]\n",
    "    \n",
    "    labels = np.zeros(batch_size)\n",
    "    for i in range(batch_size):\n",
    "        labels[i] = batch['labels'][i].argmax()\n",
    "    \n",
    "    batch_img_1 = np.zeros((2 * batch_size, in_channels*im_width*im_height))   # image set 1\n",
    "    batch_img_2 = np.zeros((2 * batch_size, in_channels*im_width*im_height))   # image set 2\n",
    "    batch_label_1 = np.zeros((2 * batch_size, ))    # labels for image set 1\n",
    "    batch_label_2 = np.zeros((2 * batch_size,))     # labels for image set 2\n",
    "    batch_label_c = np.zeros((2 * batch_size,))     # contrastive label: 0 if genuine pair, 1 if impostor pair\n",
    "    \n",
    "    for i in range(batch_size):\n",
    "        l = labels[i]\n",
    "        # find and add a genuine sample\n",
    "        ind_g = np.squeeze(np.argwhere(labels == l))\n",
    "        batch_img_1[2*i] = torch.reshape(batch['image'][i], (in_channels*im_width*im_height, ))\n",
    "        #print('label - {} #similars - {}'.format(labels[i], len(ind_g)))\n",
    "        randSamp = random.sample(list(ind_g), 1)\n",
    "        batch_img_2[2*i] = torch.reshape(batch['image'][randSamp], (in_channels*im_width*im_height, ))\n",
    "        batch_label_1[2*i] = l\n",
    "        batch_label_2[2*i] = l\n",
    "        batch_label_c[2*i] = 0\n",
    "        \n",
    "        # find and add an impostor sample\n",
    "        ind_d = np.squeeze(np.argwhere(labels != l))\n",
    "        randSamp = random.sample(list(ind_d), 1)\n",
    "        batch_img_1[2*i+1] = torch.reshape(batch['image'][i], (in_channels*im_width*im_height, ))\n",
    "        batch_img_2[2*i+1] = torch.reshape(batch['image'][randSamp], (in_channels*im_width*im_height, ))\n",
    "        batch_label_1[2*i+1] = l\n",
    "        batch_label_2[2*i+1] = labels[randSamp]\n",
    "        batch_label_c[2*i+1] = 1\n",
    "        \n",
    "    batch_img_1 = batch_img_1.reshape((-1, in_channels, im_width, im_height))\n",
    "    batch_img_2 = batch_img_2.reshape((-1, in_channels, im_width, im_height))\n",
    "    \n",
    "    batch_label_1 = torch.from_numpy(batch_label_1).long()  # convert the numpy array into torch tensor\n",
    "    #batch_label_1 = Variable(batch_label_1).cuda()          # create a torch variable and transfer it into GPU\n",
    "\n",
    "    batch_label_2 = torch.from_numpy(batch_label_2).long()  # convert the numpy array into torch tensor\n",
    "    #batch_label_2 = Variable(batch_label_2).cuda()          # create a torch variable and transfer it into GPU\n",
    "\n",
    "    batch_label_c = batch_label_c.reshape((-1, 1))\n",
    "    batch_label_c = torch.from_numpy(batch_label_c).float()  # convert the numpy array into torch tensor\n",
    "    #batch_label_c = Variable(batch_label_c).cuda()           # create a torch variable and transfer it into GPU\n",
    "\n",
    "    batch_img_1 = torch.from_numpy(batch_img_1).float()     # convert the numpy array into torch tensor\n",
    "    #batch_img_1 = Variable(batch_img_1).cuda()              # create a torch variable and transfer it into GPU\n",
    "\n",
    "    batch_img_2 = torch.from_numpy(batch_img_2).float()  # convert the numpy array into torch tensor\n",
    "    #batch_img_2 = Variable(batch_img_2).cuda()           # create a torch variable and transfer it into GPU\n",
    "    return batch_img_1, batch_img_2, batch_label_1, batch_label_2, batch_label_c\n",
    "#batch_img_1, batch_img_2, batch_label_1, batch_label_2, batch_label_c"
   ]
  },
  {
   "cell_type": "code",
   "execution_count": 17,
   "metadata": {},
   "outputs": [],
   "source": [
    "for i, batch in enumerate(train_dl):  # batches loop\n",
    "    #train_img_1, train_img_2, train_label_1, train_label_2, train_label_c = genPair(batch)\n",
    "    train_img_anchor, train_img_positve, train_img_negative, train_label_anchor, train_label_positive, train_label_negative = genTriplets(batch)\n",
    "train_sample_size = train_img_anchor.shape[0]"
   ]
  },
  {
   "cell_type": "code",
   "execution_count": 18,
   "metadata": {},
   "outputs": [
    {
     "name": "stdout",
     "output_type": "stream",
     "text": [
      "Total: 1249 Test_dl: 32\n"
     ]
    }
   ],
   "source": [
    "test_ds = GalaxiesDataset_rsa(TEST_DIR, TEST_CSV, transform=transformations)\n",
    "size = len(test_ds)\n",
    "indices = list(range(size))\n",
    "test_sampler = SubsetRandomSampler(indices)\n",
    "test_dl = DataLoader(test_ds, batch_size=BATCH_SIZE, num_workers=0,\n",
    "                                                 sampler=test_sampler)\n",
    "print(\"Total: {} Test_dl: {}\".format(size, len(test_dl)))"
   ]
  },
  {
   "cell_type": "code",
   "execution_count": 19,
   "metadata": {},
   "outputs": [
    {
     "data": {
      "text/plain": [
       "1249"
      ]
     },
     "execution_count": 19,
     "metadata": {},
     "output_type": "execute_result"
    }
   ],
   "source": [
    "len(test_dl.dataset)"
   ]
  },
  {
   "cell_type": "code",
   "execution_count": 20,
   "metadata": {},
   "outputs": [],
   "source": [
    "n = len(test_dl.dataset)\n",
    "m = train_sample_size\n",
    "distMatrix = torch.empty((n, m))\n",
    "predLabels = torch.empty((n, 1))\n",
    "actLabels = torch.empty((0, 1))\n",
    "testPreds = torch.empty((0, 128))\n",
    "trainPreds = torch.empty((0, 128))\n",
    "cos = nn.CosineSimilarity(dim=1, eps=1e-6)\n",
    "d = nn.PairwiseDistance(p=2)\n",
    "#euclidean_distance = cos(features_1, features_2)\n",
    "model.eval()\n",
    "for i, batch in enumerate(test_dl):\n",
    "    with torch.no_grad():\n",
    "        testPreds = F.normalize(torch.cat((testPreds, model(batch['image'].cuda()).cpu()), 0), 2)\n",
    "        #actLabels = torch.argmax(batch['labels'], 1).float().reshape(-1,1))\n",
    "        actLabels = torch.cat((actLabels, torch.argmax(batch['labels'], 1).float().reshape(-1,1)), 0)\n",
    "for j in range(0, m, 64):\n",
    "    with torch.no_grad():\n",
    "        preds = F.normalize(model(train_img_anchor[j: j + 64].cuda()), 2)\n",
    "        trainPreds = torch.cat((trainPreds, preds.cpu()), 0)\n",
    "for row in range(0, n):\n",
    "    for col in range(0, m):\n",
    "        distMatrix[row, col] = d(testPreds[row].reshape(1,-1).cuda(),\n",
    "                                                               trainPreds[col].reshape(1,-1).cuda()).cpu()\n",
    "        torch.cuda.empty_cache()\n",
    "for r in range(0, n):\n",
    "    ind = torch.argmin(distMatrix[r])\n",
    "    predLabels[r, 0] = train_label_anchor[ind]"
   ]
  },
  {
   "cell_type": "code",
   "execution_count": 21,
   "metadata": {},
   "outputs": [],
   "source": [
    "classifier = nn.Sequential(nn.Linear(in_features=128, out_features=64, bias = True),\n",
    "             nn.ReLU(),\n",
    "              nn.Dropout(p=0.25, inplace=False),\n",
    "              #nn.Linear(in_features=64, out_features=32, bias=True),\n",
    "              #nn.ReLU(),\n",
    "              #nn.Dropout(p=0.25),\n",
    "              nn.Linear(in_features=64, out_features=9, bias=True)                           \n",
    "             )\n",
    "classifier = classifier.to(DEVICE)"
   ]
  },
  {
   "cell_type": "code",
   "execution_count": 22,
   "metadata": {},
   "outputs": [],
   "source": [
    "#one_hot = torch.nn.functional.one_hot(train_label_1)\n",
    "criterion = nn.CrossEntropyLoss()\n",
    "optimizer = optim.Adam(classifier.parameters(), lr=0.01, weight_decay=0.00005)\n",
    "scheduler = lr_scheduler.ReduceLROnPlateau(optimizer, 'min',patience=3,threshold=0.0001,factor=0.1, verbose=True)"
   ]
  },
  {
   "cell_type": "code",
   "execution_count": 23,
   "metadata": {},
   "outputs": [],
   "source": [
    "train_idx, valid_idx= train_test_split(\n",
    "np.arange(train_label_anchor.shape[0]),\n",
    "test_size=0.4,\n",
    "shuffle=True,\n",
    "    random_state=42,\n",
    "stratify=train_label_anchor)"
   ]
  },
  {
   "cell_type": "code",
   "execution_count": 24,
   "metadata": {},
   "outputs": [],
   "source": [
    "def train_classifier(tr='train'):\n",
    "    if tr == 'train':\n",
    "        classifier.train()\n",
    "        losses = []\n",
    "        m = train_idx.shape[0]\n",
    "        for i in range(0, m, 64):\n",
    "            #torch.cuda.empty_cache()\n",
    "            inputs = trainPreds[train_idx[i: i + 64]].cuda()\n",
    "            labels = train_label_anchor[train_idx[i: i + 64]]\n",
    "            inputs, labels = inputs.to(DEVICE), labels.to(DEVICE)\n",
    "            optimizer.zero_grad()             # 1. Zero the parameter gradients\n",
    "            outputs = classifier(inputs)           # 2. Run the model\n",
    "\n",
    "            loss = criterion(outputs, labels) # 3. Calculate loss\n",
    "            #loss = criterion(outputs, labels)\n",
    "            losses.append(loss.item())\n",
    "            loss = torch.sqrt(loss)           #    -> RMSE loss\n",
    "            loss.backward()                   # 4. Backward propagate the loss\n",
    "            optimizer.step()                  # 5. Optimize the network\n",
    "\n",
    "            del inputs\n",
    "            del labels\n",
    "            torch.cuda.empty_cache()\n",
    "        epoch_loss = sum(losses) / len(losses)\n",
    "    elif tr =='val':\n",
    "        classifier.eval()\n",
    "        losses = []\n",
    "        m = valid_idx.shape[0]\n",
    "        for i in range(0, m, 64):\n",
    "            #torch.cuda.empty_cache()\n",
    "            inputs = trainPreds[valid_idx[i: i + 64]].cuda()\n",
    "            labels = train_label_anchor[valid_idx[i: i + 64]]\n",
    "            inputs, labels = inputs.to(DEVICE), labels.to(DEVICE)\n",
    "            optimizer.zero_grad()             # 1. Zero the parameter gradients\n",
    "            outputs = classifier(inputs)           # 2. Run the model\n",
    "\n",
    "            loss = criterion(outputs, labels) # 3. Calculate loss\n",
    "            #loss = criterion(outputs, labels)\n",
    "            losses.append(loss.item())\n",
    "            loss = torch.sqrt(loss)           #    -> RMSE loss\n",
    "            loss.backward()                   # 4. Backward propagate the loss\n",
    "            optimizer.step()                  # 5. Optimize the network\n",
    "\n",
    "            del inputs\n",
    "            del labels\n",
    "            torch.cuda.empty_cache()\n",
    "        epoch_loss = sum(losses) / len(losses)\n",
    "    \n",
    "    return epoch_loss"
   ]
  },
  {
   "cell_type": "code",
   "execution_count": 25,
   "metadata": {
    "scrolled": true
   },
   "outputs": [
    {
     "name": "stdout",
     "output_type": "stream",
     "text": [
      "Epoch: 1 Train Loss: 1.7742212679651048\n",
      "Epoch: 1 Val Loss: 1.3845727642377217\n",
      "Epoch: 2 Train Loss: 1.3570276829931471\n",
      "Epoch: 2 Val Loss: 1.3568746050198872\n",
      "Epoch: 3 Train Loss: 1.3277714848518372\n",
      "Epoch: 3 Val Loss: 1.3266844948132832\n",
      "Epoch: 4 Train Loss: 1.3109112646844652\n",
      "Epoch: 4 Val Loss: 1.3101145227750142\n",
      "Epoch: 5 Train Loss: 1.2909822530216641\n",
      "Epoch: 5 Val Loss: 1.3157814343770344\n",
      "Epoch: 6 Train Loss: 1.2932830055554707\n",
      "Epoch: 6 Val Loss: 1.2947402894496918\n",
      "Epoch: 7 Train Loss: 1.2806612915462918\n",
      "Epoch: 7 Val Loss: 1.296590507030487\n",
      "Epoch: 8 Train Loss: 1.2828580273522272\n",
      "Epoch: 8 Val Loss: 1.287672261397044\n",
      "Epoch: 9 Train Loss: 1.2737583716710408\n",
      "Epoch: 9 Val Loss: 1.2866945664087932\n",
      "Epoch: 10 Train Loss: 1.274703840414683\n",
      "Epoch: 10 Val Loss: 1.2861669858296711\n",
      "Epoch: 11 Train Loss: 1.2711840205722384\n",
      "Epoch: 11 Val Loss: 1.2793244918187459\n",
      "Epoch: 12 Train Loss: 1.253354377216763\n",
      "Epoch: 12 Val Loss: 1.2812305291493733\n",
      "Epoch: 13 Train Loss: 1.250222875012292\n",
      "Epoch: 13 Val Loss: 1.2633602619171143\n",
      "Epoch: 14 Train Loss: 1.258462713824378\n",
      "Epoch: 14 Val Loss: 1.2707805335521698\n",
      "Epoch: 15 Train Loss: 1.2515064213011\n",
      "Epoch: 15 Val Loss: 1.267067660888036\n",
      "Epoch: 16 Train Loss: 1.25284524096383\n",
      "Epoch: 16 Val Loss: 1.255951980749766\n",
      "Epoch: 17 Train Loss: 1.2483614815606012\n",
      "Epoch: 17 Val Loss: 1.269704629977544\n",
      "Epoch: 18 Train Loss: 1.2424056463771396\n",
      "Epoch: 18 Val Loss: 1.2622145613034566\n",
      "Epoch: 19 Train Loss: 1.2297617925537958\n",
      "Epoch: 19 Val Loss: 1.2549656927585602\n",
      "Epoch: 20 Train Loss: 1.2279267178641424\n",
      "Epoch: 20 Val Loss: 1.2664873401323955\n",
      "Epoch: 21 Train Loss: 1.2560401293966506\n",
      "Epoch: 21 Val Loss: 1.2434436678886414\n",
      "Epoch: 22 Train Loss: 1.2413025564617581\n",
      "Epoch: 22 Val Loss: 1.256484756867091\n",
      "Epoch: 23 Train Loss: 1.2460311982366774\n",
      "Epoch: 23 Val Loss: 1.2498397529125214\n",
      "Epoch: 24 Train Loss: 1.2334678636656866\n",
      "Epoch: 24 Val Loss: 1.25527227918307\n",
      "Epoch: 25 Train Loss: 1.2287272678481207\n",
      "Epoch: 25 Val Loss: 1.2407724559307098\n",
      "Epoch: 26 Train Loss: 1.2228596210479736\n",
      "Epoch: 26 Val Loss: 1.2459944784641266\n",
      "Epoch: 27 Train Loss: 1.2403094900978937\n",
      "Epoch: 27 Val Loss: 1.2449373106161754\n",
      "Epoch: 28 Train Loss: 1.2228271431393094\n",
      "Epoch: 28 Val Loss: 1.247490684191386\n",
      "Epoch: 29 Train Loss: 1.2400382227367825\n",
      "Epoch: 29 Val Loss: 1.237245500087738\n",
      "Epoch: 30 Train Loss: 1.2156054112646315\n",
      "Epoch: 30 Val Loss: 1.2387375235557556\n",
      "Epoch: 31 Train Loss: 1.231556859281328\n",
      "Epoch: 31 Val Loss: 1.2322022318840027\n",
      "Epoch: 32 Train Loss: 1.216334793302748\n",
      "Epoch: 32 Val Loss: 1.2369554837544758\n",
      "Epoch: 33 Train Loss: 1.221423003408644\n",
      "Epoch: 33 Val Loss: 1.2341709832350414\n",
      "Epoch: 34 Train Loss: 1.2234640386369493\n",
      "Epoch: 34 Val Loss: 1.234785407781601\n",
      "Epoch: 35 Train Loss: 1.2131708926624722\n",
      "Epoch: 35 Val Loss: 1.2272419730822246\n",
      "Epoch: 36 Train Loss: 1.218838757938809\n",
      "Epoch: 36 Val Loss: 1.2259336014588673\n",
      "Epoch: 37 Train Loss: 1.2127385404374864\n",
      "Epoch: 37 Val Loss: 1.2263157665729523\n",
      "Epoch: 38 Train Loss: 1.213236411412557\n",
      "Epoch: 38 Val Loss: 1.232671856880188\n",
      "Epoch: 39 Train Loss: 1.228392481803894\n",
      "Epoch: 39 Val Loss: 1.2304398318131764\n",
      "Epoch: 40 Train Loss: 1.2119775944285922\n",
      "Epoch: 40 Val Loss: 1.222669134537379\n",
      "Epoch: 41 Train Loss: 1.2117341227001615\n",
      "Epoch: 41 Val Loss: 1.229939728975296\n",
      "Epoch: 42 Train Loss: 1.2171496616469488\n",
      "Epoch: 42 Val Loss: 1.2233889400959015\n",
      "Epoch: 43 Train Loss: 1.2018787463506062\n",
      "Epoch: 43 Val Loss: 1.2320383389790852\n",
      "Epoch: 44 Train Loss: 1.2065715061293707\n",
      "Epoch: 44 Val Loss: 1.2158742745717366\n",
      "Epoch: 45 Train Loss: 1.213306811120775\n",
      "Epoch: 45 Val Loss: 1.220798134803772\n",
      "Epoch: 46 Train Loss: 1.2074041234122381\n",
      "Epoch: 46 Val Loss: 1.2144965728123982\n",
      "Epoch: 47 Train Loss: 1.2000821497705247\n",
      "Epoch: 47 Val Loss: 1.2141188383102417\n",
      "Epoch: 48 Train Loss: 1.2137701842519972\n",
      "Epoch: 48 Val Loss: 1.2106933395067851\n",
      "Epoch: 49 Train Loss: 1.2195289532343547\n",
      "Epoch: 49 Val Loss: 1.2174976070721943\n",
      "Epoch: 50 Train Loss: 1.2110506759749518\n",
      "Epoch: 50 Val Loss: 1.215691069761912\n",
      "Epoch: 51 Train Loss: 1.20283885134591\n",
      "Epoch: 51 Val Loss: 1.2027469873428345\n",
      "Epoch: 52 Train Loss: 1.1905391017595928\n",
      "Epoch: 52 Val Loss: 1.2149096528689067\n",
      "Epoch: 53 Train Loss: 1.2147528661621942\n",
      "Epoch: 53 Val Loss: 1.20949387550354\n",
      "Epoch: 54 Train Loss: 1.2110673652754889\n",
      "Epoch: 54 Val Loss: 1.2092735866705577\n",
      "Epoch: 55 Train Loss: 1.2079431745741103\n",
      "Epoch: 55 Val Loss: 1.213151474793752\n",
      "Epoch    54: reducing learning rate of group 0 to 1.0000e-03.\n",
      "Epoch: 56 Train Loss: 1.1785285472869873\n",
      "Epoch: 56 Val Loss: 1.1723459164301555\n",
      "Epoch: 57 Train Loss: 1.1730933023823633\n",
      "Epoch: 57 Val Loss: 1.169458121061325\n",
      "Epoch: 58 Train Loss: 1.1731771561834548\n",
      "Epoch: 58 Val Loss: 1.1681408882141113\n",
      "Epoch: 59 Train Loss: 1.1614401969644759\n",
      "Epoch: 59 Val Loss: 1.1674525439739227\n",
      "Epoch: 60 Train Loss: 1.1692683961656358\n",
      "Epoch: 60 Val Loss: 1.167008767525355\n",
      "Epoch: 61 Train Loss: 1.1720496349864535\n",
      "Epoch: 61 Val Loss: 1.1669642825921376\n",
      "Epoch: 62 Train Loss: 1.171562201446957\n",
      "Epoch: 62 Val Loss: 1.166517396767934\n",
      "Epoch: 63 Train Loss: 1.1617190970314875\n",
      "Epoch: 63 Val Loss: 1.1655823389689128\n",
      "Epoch: 64 Train Loss: 1.1574954059388902\n",
      "Epoch: 64 Val Loss: 1.1653868556022644\n",
      "Epoch: 65 Train Loss: 1.161076608631346\n",
      "Epoch: 65 Val Loss: 1.1651464800039928\n",
      "Epoch: 66 Train Loss: 1.1719887885782454\n",
      "Epoch: 66 Val Loss: 1.1644201278686523\n",
      "Epoch: 67 Train Loss: 1.1556865837838914\n",
      "Epoch: 67 Val Loss: 1.1641733547051747\n",
      "Epoch: 68 Train Loss: 1.1596330006917317\n",
      "Epoch: 68 Val Loss: 1.164276252190272\n",
      "Epoch: 69 Train Loss: 1.1754321919547186\n",
      "Epoch: 69 Val Loss: 1.1637441217899323\n",
      "Epoch: 70 Train Loss: 1.1654349399937525\n",
      "Epoch: 70 Val Loss: 1.1639620264371235\n",
      "Epoch: 71 Train Loss: 1.1692443953620062\n",
      "Epoch: 71 Val Loss: 1.163918286561966\n",
      "Epoch: 72 Train Loss: 1.1778911021020677\n",
      "Epoch: 72 Val Loss: 1.1637778580188751\n",
      "Epoch: 73 Train Loss: 1.1735342575444117\n",
      "Epoch: 73 Val Loss: 1.163692792256673\n",
      "Epoch    72: reducing learning rate of group 0 to 1.0000e-04.\n",
      "Epoch: 74 Train Loss: 1.1710360911157396\n",
      "Epoch: 74 Val Loss: 1.161685436964035\n",
      "Epoch: 75 Train Loss: 1.1692969136767917\n",
      "Epoch: 75 Val Loss: 1.1615423957506816\n",
      "Epoch: 76 Train Loss: 1.1554123196336958\n",
      "Epoch: 76 Val Loss: 1.1615042785803478\n",
      "Epoch: 77 Train Loss: 1.1623055968019698\n",
      "Epoch: 77 Val Loss: 1.1615040302276611\n",
      "Epoch: 78 Train Loss: 1.1660216053326924\n",
      "Epoch: 78 Val Loss: 1.1613890926043193\n",
      "Epoch: 79 Train Loss: 1.1702693303426106\n",
      "Epoch: 79 Val Loss: 1.1612968643506367\n",
      "Epoch: 80 Train Loss: 1.151159193780687\n",
      "Epoch: 80 Val Loss: 1.1613522271315257\n",
      "Epoch: 81 Train Loss: 1.1666983134216733\n",
      "Epoch: 81 Val Loss: 1.1611915230751038\n",
      "Epoch: 82 Train Loss: 1.158301807112164\n",
      "Epoch: 82 Val Loss: 1.161194344361623\n",
      "Epoch: 83 Train Loss: 1.1598406963878207\n",
      "Epoch: 83 Val Loss: 1.1611421008904774\n",
      "Epoch: 84 Train Loss: 1.1562277873357136\n",
      "Epoch: 84 Val Loss: 1.1610573530197144\n",
      "Epoch: 85 Train Loss: 1.1686887707975175\n",
      "Epoch: 85 Val Loss: 1.1609743237495422\n",
      "Epoch: 86 Train Loss: 1.1622070537673101\n",
      "Epoch: 86 Val Loss: 1.160972237586975\n",
      "Epoch: 87 Train Loss: 1.1641067961851757\n",
      "Epoch: 87 Val Loss: 1.1609579026699066\n",
      "Epoch: 88 Train Loss: 1.1646314197116427\n",
      "Epoch: 88 Val Loss: 1.1608977218468983\n",
      "Epoch: 89 Train Loss: 1.1682410306400723\n",
      "Epoch: 89 Val Loss: 1.1609195470809937\n",
      "Epoch: 90 Train Loss: 1.1610709958606296\n",
      "Epoch: 90 Val Loss: 1.1608881652355194\n",
      "Epoch: 91 Train Loss: 1.1665191716618009\n",
      "Epoch: 91 Val Loss: 1.1609041293462117\n",
      "Epoch: 92 Train Loss: 1.1576236652003393\n",
      "Epoch: 92 Val Loss: 1.1608639856179555\n",
      "Epoch    91: reducing learning rate of group 0 to 1.0000e-05.\n",
      "Epoch: 93 Train Loss: 1.1587614946895175\n",
      "Epoch: 93 Val Loss: 1.1606688300768535\n",
      "Epoch: 94 Train Loss: 1.1679741872681513\n",
      "Epoch: 94 Val Loss: 1.1606640617052715\n",
      "Epoch: 95 Train Loss: 1.154579712284936\n",
      "Epoch: 95 Val Loss: 1.1606673498948414\n",
      "Epoch: 96 Train Loss: 1.1506272819307115\n",
      "Epoch: 96 Val Loss: 1.1606596112251282\n",
      "Epoch: 97 Train Loss: 1.1625497937202454\n",
      "Epoch: 97 Val Loss: 1.160643845796585\n",
      "Epoch    96: reducing learning rate of group 0 to 1.0000e-06.\n",
      "Epoch: 98 Train Loss: 1.1677429841624365\n",
      "Epoch: 98 Val Loss: 1.160626967748006\n",
      "Epoch: 99 Train Loss: 1.1704784863524966\n",
      "Epoch: 99 Val Loss: 1.1606269081433613\n",
      "Epoch: 100 Train Loss: 1.156530585553911\n",
      "Epoch: 100 Val Loss: 1.1606248319149017\n"
     ]
    },
    {
     "data": {
      "image/png": "[encoded data removed]",
      "text/plain": [
       "<Figure size 432x288 with 1 Axes>"
      ]
     },
     "metadata": {
      "needs_background": "light"
     },
     "output_type": "display_data"
    }
   ],
   "source": [
    "train_losses = []\n",
    "val_losses= []\n",
    "#initialize the early_stopping object\n",
    "pth = './classifier'\n",
    "early_stopping = EarlyStopping(patience=10, verbose=True, path=pth)\n",
    "for epoch in range(100):\n",
    "    train_loss = train_classifier()\n",
    "    train_losses.append(train_loss)\n",
    "    print(\"Epoch: {} Train Loss: {}\".format(epoch+1, train_loss))\n",
    "    \n",
    "    val_loss = train_classifier(tr='val')\n",
    "    val_losses.append(val_loss)\n",
    "    print(\"Epoch: {} Val Loss: {}\".format(epoch+1, val_loss))\n",
    "    scheduler.step(val_loss)\n",
    "\n",
    "plt.plot(train_losses, label='Training loss')\n",
    "plt.plot(val_losses, label='Validation loss')\n",
    "plt.legend(frameon=False)\n",
    "plt.show()"
   ]
  },
  {
   "cell_type": "code",
   "execution_count": 26,
   "metadata": {},
   "outputs": [],
   "source": [
    "X = trainPreds.numpy()\n",
    "y = train_label_anchor.numpy()\n",
    "\n",
    "from sklearn.svm import SVC\n",
    "from sklearn.model_selection import train_test_split\n",
    "from sklearn.ensemble import RandomForestClassifier\n",
    "from sklearn.model_selection import GridSearchCV\n",
    "X_train, X_test, y_train, y_test = train_test_split(X, y, test_size=0.2, random_state=42)\n",
    "\n",
    "svm = SVC(C=10)\n",
    "rf = RandomForestClassifier(criterion='entropy')\n",
    "params = {'n_estimators': [1500, 2500],\n",
    "         'max_depth': [25, 30, 35]}\n",
    "gs = GridSearchCV(rf, params)\n",
    "gs.fit(X_train, y_train)\n",
    "rfc = gs.best_estimator_\n",
    "#svm.fit(X_train, y_train)"
   ]
  },
  {
   "cell_type": "code",
   "execution_count": 27,
   "metadata": {},
   "outputs": [
    {
     "data": {
      "text/plain": [
       "<matplotlib.collections.PathCollection at 0x7f48c5554898>"
      ]
     },
     "execution_count": 27,
     "metadata": {},
     "output_type": "execute_result"
    },
    {
     "data": {
      "image/png": "[encoded data removed]",
      "text/plain": [
       "<Figure size 432x288 with 1 Axes>"
      ]
     },
     "metadata": {
      "needs_background": "light"
     },
     "output_type": "display_data"
    }
   ],
   "source": [
    "from sklearn.manifold import TSNE\n",
    "from sklearn.decomposition import PCA\n",
    "import matplotlib.pyplot as plt\n",
    "X_transf = TSNE(n_components=2, perplexity=50, learning_rate=1000).fit_transform(X)\n",
    "plt.scatter(X_transf[:,0], X_transf[:,1], c=y)"
   ]
  },
  {
   "cell_type": "code",
   "execution_count": 28,
   "metadata": {
    "scrolled": true
   },
   "outputs": [],
   "source": [
    "#dff = pd.DataFrame(X_transf, columns=['x','y'])\n",
    "#dff['label'] = y\n",
    "#dff[(dff['x'] >= 20) & (dff['x'] <= 40)][(dff['y'] <= 50) & (dff['y'] >= 40)]"
   ]
  },
  {
   "cell_type": "code",
   "execution_count": 29,
   "metadata": {
    "scrolled": true
   },
   "outputs": [
    {
     "data": {
      "text/plain": [
       "0.6026666666666667"
      ]
     },
     "execution_count": 29,
     "metadata": {},
     "output_type": "execute_result"
    }
   ],
   "source": [
    "svmPreds = rfc.predict(X_test)\n",
    "#rfc.score(X_test, y_test.reshape(-1,1))\n",
    "pp = rfc.predict(testPreds.cpu().numpy())\n",
    "rfc.score(X_test, y_test.reshape(-1,1))"
   ]
  },
  {
   "cell_type": "code",
   "execution_count": 37,
   "metadata": {},
   "outputs": [],
   "source": [
    "n = len(unseen_dl.dataset)\n",
    "m = train_sample_size\n",
    "unseenPredLabels = torch.empty((n, 1))\n",
    "unseenActLabels = torch.empty((0, 1))\n",
    "unseenPreds = torch.empty((0, 128))\n",
    "model.eval()\n",
    "for i, batch in enumerate(unseen_dl):\n",
    "    with torch.no_grad():\n",
    "        unseenPreds = torch.cat((unseenPreds, model(batch['image'].cuda()).cpu()), 0)\n",
    "        #actLabels = torch.argmax(batch['labels'], 1).float().reshape(-1,1))\n",
    "        unseenActLabels = torch.cat((unseenActLabels, torch.argmax(batch['labels'], 1).float().reshape(-1,1)), 0)"
   ]
  },
  {
   "cell_type": "code",
   "execution_count": 39,
   "metadata": {},
   "outputs": [
    {
     "data": {
      "text/plain": [
       "0.6032"
      ]
     },
     "execution_count": 39,
     "metadata": {},
     "output_type": "execute_result"
    }
   ],
   "source": [
    "unseenTest = unseenPreds.numpy()\n",
    "rfc.score(unseenTest, unseenActLabels.numpy().reshape(-1, 1))"
   ]
  },
  {
   "cell_type": "code",
   "execution_count": 48,
   "metadata": {
    "scrolled": true
   },
   "outputs": [
    {
     "data": {
      "text/plain": [
       "0.5906711217004452"
      ]
     },
     "execution_count": 48,
     "metadata": {},
     "output_type": "execute_result"
    }
   ],
   "source": [
    "f1_score(rfc.predict(unseenTest), unseenActLabels.numpy(), average='weighted')\n"
   ]
  },
  {
   "cell_type": "code",
   "execution_count": 40,
   "metadata": {},
   "outputs": [],
   "source": [
    "#torch.argmax(classifier(testPreds[65: 128].cuda()), 1)\n",
    "class_test = torch.empty((0, 9))\n",
    "for i in range(0, testPreds.shape[0], 64):\n",
    "    class_test = torch.cat((class_test, classifier(testPreds[i: i + 64].cuda()).cpu()), 0)"
   ]
  },
  {
   "cell_type": "code",
   "execution_count": 41,
   "metadata": {
    "scrolled": true
   },
   "outputs": [],
   "source": [
    "predLabs = torch.argmax(class_test, 1).numpy()"
   ]
  },
  {
   "cell_type": "code",
   "execution_count": 42,
   "metadata": {},
   "outputs": [],
   "source": [
    "efigi = pd.read_csv('efigi_model.csv')\n",
    "efigi['codes'] = efigi['hubb'].astype('category').cat.codes\n",
    "efigi = efigi.loc[:, ['hubb','codes']]\n",
    "efigi = efigi.drop_duplicates(subset=['hubb'])"
   ]
  },
  {
   "cell_type": "code",
   "execution_count": 43,
   "metadata": {},
   "outputs": [
    {
     "data": {
      "text/html": [
       "<div>\n",
       "<style scoped>\n",
       "    .dataframe tbody tr th:only-of-type {\n",
       "        vertical-align: middle;\n",
       "    }\n",
       "\n",
       "    .dataframe tbody tr th {\n",
       "        vertical-align: top;\n",
       "    }\n",
       "\n",
       "    .dataframe thead th {\n",
       "        text-align: right;\n",
       "    }\n",
       "</style>\n",
       "<table border=\"1\" class=\"dataframe\">\n",
       "  <thead>\n",
       "    <tr style=\"text-align: right;\">\n",
       "      <th></th>\n",
       "      <th>Predict</th>\n",
       "      <th>Act</th>\n",
       "    </tr>\n",
       "  </thead>\n",
       "  <tbody>\n",
       "    <tr>\n",
       "      <th>0</th>\n",
       "      <td>7</td>\n",
       "      <td>7.0</td>\n",
       "    </tr>\n",
       "    <tr>\n",
       "      <th>1</th>\n",
       "      <td>0</td>\n",
       "      <td>7.0</td>\n",
       "    </tr>\n",
       "    <tr>\n",
       "      <th>2</th>\n",
       "      <td>6</td>\n",
       "      <td>9.0</td>\n",
       "    </tr>\n",
       "    <tr>\n",
       "      <th>3</th>\n",
       "      <td>7</td>\n",
       "      <td>10.0</td>\n",
       "    </tr>\n",
       "    <tr>\n",
       "      <th>4</th>\n",
       "      <td>5</td>\n",
       "      <td>7.0</td>\n",
       "    </tr>\n",
       "  </tbody>\n",
       "</table>\n",
       "</div>"
      ],
      "text/plain": [
       "   Predict   Act\n",
       "0        7   7.0\n",
       "1        0   7.0\n",
       "2        6   9.0\n",
       "3        7  10.0\n",
       "4        5   7.0"
      ]
     },
     "execution_count": 43,
     "metadata": {},
     "output_type": "execute_result"
    }
   ],
   "source": [
    "df = pd.DataFrame(predLabs, columns=['Predict'])\n",
    "#predLabels.numpy()\n",
    "df['Act'] = actLabels.numpy()\n",
    "df.head()"
   ]
  },
  {
   "cell_type": "code",
   "execution_count": 44,
   "metadata": {},
   "outputs": [
    {
     "data": {
      "text/html": [
       "<div>\n",
       "<style scoped>\n",
       "    .dataframe tbody tr th:only-of-type {\n",
       "        vertical-align: middle;\n",
       "    }\n",
       "\n",
       "    .dataframe tbody tr th {\n",
       "        vertical-align: top;\n",
       "    }\n",
       "\n",
       "    .dataframe thead th {\n",
       "        text-align: right;\n",
       "    }\n",
       "</style>\n",
       "<table border=\"1\" class=\"dataframe\">\n",
       "  <thead>\n",
       "    <tr style=\"text-align: right;\">\n",
       "      <th></th>\n",
       "      <th>New type</th>\n",
       "      <th>cat</th>\n",
       "    </tr>\n",
       "  </thead>\n",
       "  <tbody>\n",
       "    <tr>\n",
       "      <th>0</th>\n",
       "      <td>Sc</td>\n",
       "      <td>10</td>\n",
       "    </tr>\n",
       "    <tr>\n",
       "      <th>1</th>\n",
       "      <td>Sa</td>\n",
       "      <td>8</td>\n",
       "    </tr>\n",
       "    <tr>\n",
       "      <th>3</th>\n",
       "      <td>E3-5</td>\n",
       "      <td>1</td>\n",
       "    </tr>\n",
       "    <tr>\n",
       "      <th>4</th>\n",
       "      <td>Sb</td>\n",
       "      <td>9</td>\n",
       "    </tr>\n",
       "    <tr>\n",
       "      <th>5</th>\n",
       "      <td>SBb</td>\n",
       "      <td>6</td>\n",
       "    </tr>\n",
       "    <tr>\n",
       "      <th>6</th>\n",
       "      <td>SBc</td>\n",
       "      <td>7</td>\n",
       "    </tr>\n",
       "    <tr>\n",
       "      <th>9</th>\n",
       "      <td>E0</td>\n",
       "      <td>0</td>\n",
       "    </tr>\n",
       "    <tr>\n",
       "      <th>10</th>\n",
       "      <td>S0</td>\n",
       "      <td>4</td>\n",
       "    </tr>\n",
       "    <tr>\n",
       "      <th>23</th>\n",
       "      <td>Irr</td>\n",
       "      <td>3</td>\n",
       "    </tr>\n",
       "    <tr>\n",
       "      <th>38</th>\n",
       "      <td>SBa</td>\n",
       "      <td>5</td>\n",
       "    </tr>\n",
       "    <tr>\n",
       "      <th>125</th>\n",
       "      <td>E7</td>\n",
       "      <td>2</td>\n",
       "    </tr>\n",
       "  </tbody>\n",
       "</table>\n",
       "</div>"
      ],
      "text/plain": [
       "    New type  cat\n",
       "0         Sc   10\n",
       "1         Sa    8\n",
       "3       E3-5    1\n",
       "4         Sb    9\n",
       "5        SBb    6\n",
       "6        SBc    7\n",
       "9         E0    0\n",
       "10        S0    4\n",
       "23       Irr    3\n",
       "38       SBa    5\n",
       "125       E7    2"
      ]
     },
     "execution_count": 44,
     "metadata": {},
     "output_type": "execute_result"
    }
   ],
   "source": [
    "orig_df = test_dl.dataset.classes_frame\n",
    "orig_df['cat'] = 0\n",
    "for i in range(orig_df.shape[0]):\n",
    "    orig_df.loc[i,'cat'] = np.argmax(orig_df.iloc[i,2:].values)\n",
    "orig_df = orig_df.loc[:, ['New type', 'cat']].drop_duplicates()\n",
    "orig_df"
   ]
  },
  {
   "cell_type": "code",
   "execution_count": 45,
   "metadata": {},
   "outputs": [
    {
     "data": {
      "text/html": [
       "<div>\n",
       "<style scoped>\n",
       "    .dataframe tbody tr th:only-of-type {\n",
       "        vertical-align: middle;\n",
       "    }\n",
       "\n",
       "    .dataframe tbody tr th {\n",
       "        vertical-align: top;\n",
       "    }\n",
       "\n",
       "    .dataframe thead th {\n",
       "        text-align: right;\n",
       "    }\n",
       "</style>\n",
       "<table border=\"1\" class=\"dataframe\">\n",
       "  <thead>\n",
       "    <tr style=\"text-align: right;\">\n",
       "      <th></th>\n",
       "      <th>Predict</th>\n",
       "      <th>Act</th>\n",
       "      <th>New type</th>\n",
       "      <th>cat</th>\n",
       "      <th>hubb</th>\n",
       "      <th>codes</th>\n",
       "    </tr>\n",
       "  </thead>\n",
       "  <tbody>\n",
       "    <tr>\n",
       "      <th>0</th>\n",
       "      <td>7</td>\n",
       "      <td>7.0</td>\n",
       "      <td>SBc</td>\n",
       "      <td>7</td>\n",
       "      <td>Sb</td>\n",
       "      <td>7</td>\n",
       "    </tr>\n",
       "    <tr>\n",
       "      <th>1</th>\n",
       "      <td>0</td>\n",
       "      <td>7.0</td>\n",
       "      <td>SBc</td>\n",
       "      <td>7</td>\n",
       "      <td>E</td>\n",
       "      <td>0</td>\n",
       "    </tr>\n",
       "    <tr>\n",
       "      <th>2</th>\n",
       "      <td>6</td>\n",
       "      <td>9.0</td>\n",
       "      <td>Sb</td>\n",
       "      <td>9</td>\n",
       "      <td>Sa</td>\n",
       "      <td>6</td>\n",
       "    </tr>\n",
       "    <tr>\n",
       "      <th>3</th>\n",
       "      <td>7</td>\n",
       "      <td>10.0</td>\n",
       "      <td>Sc</td>\n",
       "      <td>10</td>\n",
       "      <td>Sb</td>\n",
       "      <td>7</td>\n",
       "    </tr>\n",
       "    <tr>\n",
       "      <th>4</th>\n",
       "      <td>5</td>\n",
       "      <td>7.0</td>\n",
       "      <td>SBc</td>\n",
       "      <td>7</td>\n",
       "      <td>SBc</td>\n",
       "      <td>5</td>\n",
       "    </tr>\n",
       "  </tbody>\n",
       "</table>\n",
       "</div>"
      ],
      "text/plain": [
       "   Predict   Act New type  cat hubb  codes\n",
       "0        7   7.0      SBc    7   Sb      7\n",
       "1        0   7.0      SBc    7    E      0\n",
       "2        6   9.0       Sb    9   Sa      6\n",
       "3        7  10.0       Sc   10   Sb      7\n",
       "4        5   7.0      SBc    7  SBc      5"
      ]
     },
     "execution_count": 45,
     "metadata": {},
     "output_type": "execute_result"
    }
   ],
   "source": [
    "sdf = pd.merge(df, orig_df, left_on=['Act'], right_on=['cat'], how='left')\n",
    "sdf = pd.merge(sdf, efigi, left_on=['Predict'], right_on=['codes'], how='left')\n",
    "sdf.head()"
   ]
  },
  {
   "cell_type": "code",
   "execution_count": 46,
   "metadata": {},
   "outputs": [],
   "source": [
    "change = sdf[sdf['New type'].isin(['E0','E3-5','E7'])].index.tolist()\n",
    "sdf.loc[change, 'New type'] = 'E'"
   ]
  },
  {
   "cell_type": "code",
   "execution_count": 47,
   "metadata": {},
   "outputs": [
    {
     "data": {
      "text/plain": [
       "0.23947913107226895"
      ]
     },
     "execution_count": 47,
     "metadata": {},
     "output_type": "execute_result"
    }
   ],
   "source": [
    "f1_score(sdf['New type'], sdf['hubb'], average='macro')"
   ]
  },
  {
   "cell_type": "code",
   "execution_count": 48,
   "metadata": {},
   "outputs": [
    {
     "data": {
      "text/plain": [
       "0.26501200960768617"
      ]
     },
     "execution_count": 48,
     "metadata": {},
     "output_type": "execute_result"
    }
   ],
   "source": [
    "sdf[sdf['New type'] == sdf['hubb']].shape[0]/sdf.shape[0]"
   ]
  },
  {
   "cell_type": "code",
   "execution_count": 49,
   "metadata": {},
   "outputs": [
    {
     "name": "stdout",
     "output_type": "stream",
     "text": [
      "Confusion matrix:\n",
      "Predicted    E  Irr   S0  SBa  SBb  SBc   Sa  Sb  Sc  __all__\n",
      "Actual                                                       \n",
      "E          106    0   44    0    0    0   23   0   1      174\n",
      "Irr         10    8    1    0    0    6   11   1   4       41\n",
      "S0          47    9   40    1    0    0   67   9   1      174\n",
      "SBa         14    2   14   17    1    0   12   4   1       65\n",
      "SBb         30    7    5    9   14    2   17   9   3       96\n",
      "SBc         19   19    5    5    7   14   18   5   9      101\n",
      "Sa          32    3   26    5    4    2   65   8   2      147\n",
      "Sb          36    4   23    2    9    3   68  22  12      179\n",
      "Sc          47   20   17    9   13   12   68  41  45      272\n",
      "__all__    341   72  175   48   48   39  349  99  78     1249\n"
     ]
    }
   ],
   "source": [
    "cf = ConfusionMatrix(sdf['New type'].tolist(), sdf['hubb'].tolist())\n",
    "#cf = confusion_matrix(sdf['New type'].tolist(), sdf['hubb'].tolist(), labels=['E','Irr','S0','SBa','SBb','SBc','Sa','Sb','Sc'])\n",
    "#C = cf / cf.astype(np.float).sum(axis=1, keepdims=True)\n",
    "print(\"Confusion matrix:\\n%s\" % cf)"
   ]
  },
  {
   "cell_type": "code",
   "execution_count": 14,
   "metadata": {
    "scrolled": true
   },
   "outputs": [
    {
     "ename": "NameError",
     "evalue": "name 'train_label_anchor' is not defined",
     "output_type": "error",
     "traceback": [
      "\u001b[0;31m---------------------------------------------------------------------------\u001b[0m",
      "\u001b[0;31mNameError\u001b[0m                                 Traceback (most recent call last)",
      "\u001b[0;32m<ipython-input-14-e5a46a710d43>\u001b[0m in \u001b[0;36m<module>\u001b[0;34m\u001b[0m\n\u001b[0;32m----> 1\u001b[0;31m \u001b[0munique_labs\u001b[0m \u001b[0;34m=\u001b[0m \u001b[0mtorch\u001b[0m\u001b[0;34m.\u001b[0m\u001b[0munique\u001b[0m\u001b[0;34m(\u001b[0m\u001b[0mtrain_label_anchor\u001b[0m\u001b[0;34m)\u001b[0m\u001b[0;34m\u001b[0m\u001b[0;34m\u001b[0m\u001b[0m\n\u001b[0m\u001b[1;32m      2\u001b[0m \u001b[0mavg_fts\u001b[0m \u001b[0;34m=\u001b[0m \u001b[0mtorch\u001b[0m\u001b[0;34m.\u001b[0m\u001b[0mempty\u001b[0m\u001b[0;34m(\u001b[0m\u001b[0;34m(\u001b[0m\u001b[0;36m0\u001b[0m\u001b[0;34m,\u001b[0m \u001b[0;36m37\u001b[0m\u001b[0;34m)\u001b[0m\u001b[0;34m)\u001b[0m\u001b[0;34m\u001b[0m\u001b[0;34m\u001b[0m\u001b[0m\n\u001b[1;32m      3\u001b[0m \u001b[0;32mfor\u001b[0m \u001b[0mlab\u001b[0m \u001b[0;32min\u001b[0m \u001b[0munique_labs\u001b[0m\u001b[0;34m:\u001b[0m\u001b[0;34m\u001b[0m\u001b[0;34m\u001b[0m\u001b[0m\n\u001b[1;32m      4\u001b[0m     \u001b[0minds\u001b[0m \u001b[0;34m=\u001b[0m \u001b[0mnp\u001b[0m\u001b[0;34m.\u001b[0m\u001b[0mwhere\u001b[0m\u001b[0;34m(\u001b[0m\u001b[0mtrain_label_anchor\u001b[0m \u001b[0;34m==\u001b[0m \u001b[0mlab\u001b[0m\u001b[0;34m)\u001b[0m\u001b[0;34m[\u001b[0m\u001b[0;36m0\u001b[0m\u001b[0;34m]\u001b[0m\u001b[0;34m\u001b[0m\u001b[0;34m\u001b[0m\u001b[0m\n\u001b[1;32m      5\u001b[0m     \u001b[0mfts\u001b[0m \u001b[0;34m=\u001b[0m \u001b[0mtorch\u001b[0m\u001b[0;34m.\u001b[0m\u001b[0mempty\u001b[0m\u001b[0;34m(\u001b[0m\u001b[0;34m(\u001b[0m\u001b[0;36m0\u001b[0m\u001b[0;34m,\u001b[0m \u001b[0;36m37\u001b[0m\u001b[0;34m)\u001b[0m\u001b[0;34m)\u001b[0m\u001b[0;34m\u001b[0m\u001b[0;34m\u001b[0m\u001b[0m\n",
      "\u001b[0;31mNameError\u001b[0m: name 'train_label_anchor' is not defined"
     ]
    }
   ],
   "source": [
    "unique_labs = torch.unique(train_label_anchor)\n",
    "avg_fts = torch.empty((0, 37))\n",
    "for lab in unique_labs:\n",
    "    inds = np.where(train_label_anchor == lab)[0]\n",
    "    fts = torch.empty((0, 37))\n",
    "    #fts = trainPreds[inds]\n",
    "    for k in range(0, inds.shape[0], BATCH_SIZE):\n",
    "        with torch.no_grad():\n",
    "            #preds = model(train_img_anchor[inds[j: j + BATCH_SIZE]].cuda())\n",
    "            preds = trainPreds[inds[k: k + BATCH_SIZE]]\n",
    "            fts = torch.cat((fts, preds.cpu()), 0)\n",
    "    avg = torch.mean(fts, 0).reshape(1,-1)\n",
    "    avg_fts = torch.cat((avg_fts, avg ), 0)\n",
    "print(avg_fts)"
   ]
  },
  {
   "cell_type": "code",
   "execution_count": null,
   "metadata": {},
   "outputs": [],
   "source": [
    "n = testPreds.shape[0]\n",
    "n_classes = 9\n",
    "d = nn.PairwiseDistance(p=2)\n",
    "for row in range(0, n):\n",
    "                for col in range(0, n_classes):\n",
    "                    distMatrix[row, col] = d(testPreds[row].reshape(1,-1).cuda(),\n",
    "                                                               avg_fts[col].reshape(1,-1).cuda()).cpu()"
   ]
  },
  {
   "cell_type": "code",
   "execution_count": 21,
   "metadata": {},
   "outputs": [],
   "source": [
    "un = []\n",
    "count = 0\n",
    "for i in range(distMatrix.shape[0]):\n",
    "    un.append(torch.argmin(distMatrix[i]))\n"
   ]
  },
  {
   "cell_type": "code",
   "execution_count": 22,
   "metadata": {},
   "outputs": [
    {
     "data": {
      "text/plain": [
       "0.5356896720743705"
      ]
     },
     "execution_count": 22,
     "metadata": {},
     "output_type": "execute_result"
    }
   ],
   "source": [
    "from sklearn.metrics import f1_score\n",
    "f1_score(actLabels, un, average='macro')"
   ]
  },
  {
   "cell_type": "code",
   "execution_count": 23,
   "metadata": {},
   "outputs": [
    {
     "data": {
      "text/plain": [
       "0.5296"
      ]
     },
     "execution_count": 23,
     "metadata": {},
     "output_type": "execute_result"
    }
   ],
   "source": [
    "count = 0\n",
    "for i in range(len(un)):\n",
    "    if un[i] == actLabels[i].long():\n",
    "        count += 1\n",
    "count/len(un)"
   ]
  },
  {
   "cell_type": "code",
   "execution_count": null,
   "metadata": {},
   "outputs": [],
   "source": []
  }
 ],
 "metadata": {
  "kernelspec": {
   "display_name": "Python 3",
   "language": "python",
   "name": "python3"
  },
  "language_info": {
   "codemirror_mode": {
    "name": "ipython",
    "version": 3
   },
   "file_extension": ".py",
   "mimetype": "text/x-python",
   "name": "python",
   "nbconvert_exporter": "python",
   "pygments_lexer": "ipython3",
   "version": "3.7.3"
  }
 },
 "nbformat": 4,
 "nbformat_minor": 2
}
